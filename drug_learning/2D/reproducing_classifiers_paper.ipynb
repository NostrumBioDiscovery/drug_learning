{
 "cells": [
  {
   "cell_type": "markdown",
   "metadata": {},
   "source": [
    "In this notebook we reproduce one of the classifiers demonstrated in the paper [In Silico Prediction of Cytochrome P450-Drug Interaction: QSARs for CYP3A4 and CYP2C9](https://www.mdpi.com/1422-0067/17/6/914). Then we will use the same data to explore other methods such as SVM or neural networks."
   ]
  },
  {
   "cell_type": "code",
   "execution_count": 1,
   "metadata": {},
   "outputs": [],
   "source": [
    "%matplotlib inline\n",
    "import os\n",
    "import pandas as pd\n",
    "import numpy as np\n",
    "from sklearn.neighbors import KNeighborsClassifier\n",
    "from sklearn.svm import SVC\n",
    "from sklearn.metrics import confusion_matrix\n",
    "import matplotlib.pyplot as plt\n",
    "import tensorflow as tf\n",
    "\n",
    "\n",
    "PATH_DATA = \"../datasets/CYP/\""
   ]
  },
  {
   "cell_type": "markdown",
   "metadata": {},
   "source": [
    "Load training data, separate labels from features and select the features used in the paper for the KNeighbors Classifiers"
   ]
  },
  {
   "cell_type": "code",
   "execution_count": 2,
   "metadata": {},
   "outputs": [],
   "source": [
    "train_data = pd.read_csv(os.path.join(PATH_DATA, \"CYP2C9_dataset_training.csv\"), decimal=\",\")\n",
    "train_labels = (train_data[\"Class\"] == \"Active\").values.astype(int)\n",
    "train_data = train_data.drop(columns=\"Class\")\n",
    "train_data = train_data.astype({\"SMILES\": object, \"Sp\": float, \"nBM\": int, \"ARR\": float, \"nPyrimidines\": int, \"HyWi_B(m)\": float, \"GATS2i\": float, \"Eta_betaP_A\": float, \"nRNR2\": int, \"F01[C-N]\": int, \"MLOGP\": float})\n",
    "train_data_orig = train_data.copy()\n",
    "# train_data will contain all the features, while train_data_knn will contain the ones used by the knn in the paper\n",
    "train_data = train_data.drop(columns=\"SMILES\")\n",
    "train_data_knn = train_data_orig.iloc[:,[5, 6, 7, 8, 9, 10]]"
   ]
  },
  {
   "cell_type": "markdown",
   "metadata": {},
   "source": [
    "Load testing data, separate labels from features and select the features used in the paper for the KNeighbors Classifiers"
   ]
  },
  {
   "cell_type": "code",
   "execution_count": 3,
   "metadata": {},
   "outputs": [],
   "source": [
    "test_data = pd.read_csv(os.path.join(PATH_DATA, \"CYP2C9_dataset_testing.csv\"), decimal=\",\")\n",
    "test_labels = (test_data[\"Class\"] == \"Active\").values.astype(int)\n",
    "test_data = test_data.drop(columns=\"Class\")\n",
    "test_data = test_data.astype({\"SMILES\": object, \"Sp\": float, \"nBM\": int, \"ARR\": float, \"nPyrimidines\": int, \"HyWi_B(m)\": float, \"GATS2i\": float, \"Eta_betaP_A\": float, \"nRNR2\": int, \"F01[C-N]\": int, \"MLOGP\": float})\n",
    "test_data_orig = test_data.copy()\n",
    "test_data = test_data.drop(columns=\"SMILES\")\n",
    "test_data_knn = test_data_orig.iloc[:,[5, 6, 7, 8, 9, 10]]"
   ]
  },
  {
   "cell_type": "markdown",
   "metadata": {},
   "source": [
    "Assign appropiate data types to the features"
   ]
  },
  {
   "cell_type": "markdown",
   "metadata": {},
   "source": [
    "Test a KNeighbors classifier:"
   ]
  },
  {
   "cell_type": "code",
   "execution_count": 4,
   "metadata": {},
   "outputs": [],
   "source": [
    "nbrs = KNeighborsClassifier(n_neighbors=14, algorithm='ball_tree')\n",
    "nbrs.fit(train_data_knn, train_labels)\n",
    "predicted = nbrs.predict(test_data_knn)"
   ]
  },
  {
   "cell_type": "code",
   "execution_count": 5,
   "metadata": {},
   "outputs": [],
   "source": [
    "def print_metrics(predicted_values, target_values):\n",
    "    tn, fp, fn, tp = confusion_matrix(target_values, predicted_values).ravel()\n",
    "    Sn = tp/(tp+fn)\n",
    "    Sp = tn/(tn+fp)\n",
    "    ner = (Sn+Sp)/2\n",
    "    print(\"NER:\", ner, \"Sensitivity:\", Sn, \"Specificity:\", Sp)\n",
    "    return ner, Sn, Sp"
   ]
  },
  {
   "cell_type": "code",
   "execution_count": 6,
   "metadata": {},
   "outputs": [
    {
     "name": "stdout",
     "output_type": "stream",
     "text": [
      "NER: 0.7336992681304059 Sensitivity: 0.6111111111111112 Specificity: 0.8562874251497006\n"
     ]
    },
    {
     "data": {
      "text/plain": [
       "(0.7336992681304059, 0.6111111111111112, 0.8562874251497006)"
      ]
     },
     "execution_count": 6,
     "metadata": {},
     "output_type": "execute_result"
    }
   ],
   "source": [
    "print_metrics(predicted, test_labels)"
   ]
  },
  {
   "cell_type": "markdown",
   "metadata": {},
   "source": [
    "Try a SVM with all features:"
   ]
  },
  {
   "cell_type": "code",
   "execution_count": 7,
   "metadata": {},
   "outputs": [
    {
     "name": "stdout",
     "output_type": "stream",
     "text": [
      "NER: 0.7163575878545938 Sensitivity: 0.5377777777777778 Specificity: 0.8949373979314099\n"
     ]
    },
    {
     "data": {
      "text/plain": [
       "(0.7163575878545938, 0.5377777777777778, 0.8949373979314099)"
      ]
     },
     "execution_count": 7,
     "metadata": {},
     "output_type": "execute_result"
    }
   ],
   "source": [
    "svm = SVC()\n",
    "svm.fit(train_data, train_labels)\n",
    "predicted = svm.predict(test_data)\n",
    "print_metrics(predicted, test_labels)"
   ]
  },
  {
   "cell_type": "markdown",
   "metadata": {},
   "source": [
    "Try a SVM with the KNeighbors features:"
   ]
  },
  {
   "cell_type": "code",
   "execution_count": 8,
   "metadata": {},
   "outputs": [
    {
     "name": "stdout",
     "output_type": "stream",
     "text": [
      "NER: 0.7198363878303998 Sensitivity: 0.5588888888888889 Specificity: 0.8807838867719108\n"
     ]
    },
    {
     "data": {
      "text/plain": [
       "(0.7198363878303998, 0.5588888888888889, 0.8807838867719108)"
      ]
     },
     "execution_count": 8,
     "metadata": {},
     "output_type": "execute_result"
    }
   ],
   "source": [
    "svm = SVC()\n",
    "svm.fit(train_data_knn, train_labels)\n",
    "predicted = svm.predict(test_data_knn)\n",
    "print_metrics(predicted, test_labels)"
   ]
  },
  {
   "cell_type": "markdown",
   "metadata": {},
   "source": [
    "We next do a quick sweep over several values of the regularization parameter for the SVM with all the features"
   ]
  },
  {
   "cell_type": "code",
   "execution_count": 9,
   "metadata": {},
   "outputs": [
    {
     "name": "stdout",
     "output_type": "stream",
     "text": [
      "Scores using C=0.01\n",
      "NER: 0.5078113470029638 Sensitivity: 0.01888888888888889 Specificity: 0.9967338051170387\n",
      "Scores using C=0.016237767391887217\n",
      "NER: 0.5832253674469243 Sensitivity: 0.21 Specificity: 0.9564507348938487\n",
      "Scores using C=0.026366508987303583\n",
      "NER: 0.6320882477469303 Sensitivity: 0.3322222222222222 Specificity: 0.9319542732716385\n",
      "Scores using C=0.04281332398719394\n",
      "NER: 0.6544671263533539 Sensitivity: 0.39222222222222225 Specificity: 0.9167120304844856\n",
      "Scores using C=0.06951927961775606\n",
      "NER: 0.6647952579689107 Sensitivity: 0.4177777777777778 Specificity: 0.9118127381600436\n",
      "Scores using C=0.11288378916846889\n",
      "NER: 0.6792508921550837 Sensitivity: 0.4477777777777778 Specificity: 0.9107240065323897\n",
      "Scores using C=0.18329807108324356\n",
      "NER: 0.684817637452368 Sensitivity: 0.46 Specificity: 0.909635274904736\n",
      "Scores using C=0.29763514416313175\n",
      "NER: 0.6890458476985424 Sensitivity: 0.47444444444444445 Specificity: 0.9036472509526402\n",
      "Scores using C=0.4832930238571752\n",
      "NER: 0.7023903707736043 Sensitivity: 0.5022222222222222 Specificity: 0.9025585193249864\n",
      "Scores using C=0.7847599703514611\n",
      "NER: 0.709124175890643 Sensitivity: 0.5222222222222223 Specificity: 0.8960261295590637\n",
      "Scores using C=1.2742749857031335\n",
      "NER: 0.7227520716143471 Sensitivity: 0.5511111111111111 Specificity: 0.894393032117583\n",
      "Scores using C=2.06913808111479\n",
      "NER: 0.7311637331397811 Sensitivity: 0.5755555555555556 Specificity: 0.8867719107240065\n",
      "Scores using C=3.359818286283781\n",
      "NER: 0.7383859553620032 Sensitivity: 0.59 Specificity: 0.8867719107240065\n",
      "Scores using C=5.455594781168514\n",
      "NER: 0.7458691707494103 Sensitivity: 0.6033333333333334 Specificity: 0.8884050081654872\n",
      "Scores using C=8.858667904100823\n",
      "NER: 0.7497692493800279 Sensitivity: 0.6122222222222222 Specificity: 0.8873162765378334\n",
      "Scores using C=14.38449888287663\n",
      "NER: 0.7508356015242243 Sensitivity: 0.61 Specificity: 0.8916712030484486\n",
      "Scores using C=23.357214690901213\n",
      "NER: 0.7536245690437307 Sensitivity: 0.6166666666666667 Specificity: 0.8905824714207947\n",
      "Scores using C=37.92690190732246\n",
      "NER: 0.7525246476743482 Sensitivity: 0.6155555555555555 Specificity: 0.889493739793141\n",
      "Scores using C=61.584821106602604\n",
      "NER: 0.7517080989536079 Sensitivity: 0.6155555555555555 Specificity: 0.8878606423516603\n",
      "Scores using C=100.0\n",
      "NER: 0.7514471057884231 Sensitivity: 0.6166666666666667 Specificity: 0.8862275449101796\n"
     ]
    },
    {
     "data": {
      "image/png": "[encoded data removed]",
      "text/plain": [
       "<Figure size 432x288 with 1 Axes>"
      ]
     },
     "metadata": {
      "needs_background": "light"
     },
     "output_type": "display_data"
    },
    {
     "name": "stdout",
     "output_type": "stream",
     "text": [
      "Best C value is  23.357214690901213\n"
     ]
    }
   ],
   "source": [
    "C_values = np.geomspace(0.01, 100, num=20)\n",
    "ner_vals = []\n",
    "Sn_vals = []\n",
    "Sp_vals = []\n",
    "for c in C_values:\n",
    "    svm = SVC(C=c)\n",
    "    svm.fit(train_data, train_labels)\n",
    "    predicted = svm.predict(test_data)\n",
    "    print(f\"Scores using C={c}\")\n",
    "    ner, sn, sp = print_metrics(predicted, test_labels)\n",
    "    ner_vals.append(ner)\n",
    "    Sn_vals.append(sn)\n",
    "    Sp_vals.append(sp)\n",
    "plt.plot(C_values, ner_vals, label=\"NER\")\n",
    "plt.plot(C_values, Sn_vals, label=\"Sn\")\n",
    "plt.plot(C_values, Sp_vals, label=\"Sp\")\n",
    "plt.legend()\n",
    "plt.xlabel(\"Regularization parameter C\")\n",
    "plt.show()\n",
    "print(\"Best C value is \", C_values[np.argmax(ner_vals)])"
   ]
  },
  {
   "cell_type": "markdown",
   "metadata": {},
   "source": [
    "We do the same with the knn features"
   ]
  },
  {
   "cell_type": "code",
   "execution_count": 10,
   "metadata": {},
   "outputs": [
    {
     "name": "stdout",
     "output_type": "stream",
     "text": [
      "Scores using C=0.01\n",
      "NER: 0.5 Sensitivity: 0.0 Specificity: 1.0\n",
      "Scores using C=0.016237767391887217\n",
      "NER: 0.5 Sensitivity: 0.0 Specificity: 1.0\n",
      "Scores using C=0.026366508987303583\n",
      "NER: 0.5 Sensitivity: 0.0 Specificity: 1.0\n",
      "Scores using C=0.04281332398719394\n",
      "NER: 0.5234787999758059 Sensitivity: 0.06111111111111111 Specificity: 0.9858464888405009\n",
      "Scores using C=0.06951927961775606\n",
      "NER: 0.6057161434706344 Sensitivity: 0.2811111111111111 Specificity: 0.9303211758301578\n",
      "Scores using C=0.11288378916846889\n",
      "NER: 0.6367452972842194 Sensitivity: 0.3622222222222222 Specificity: 0.9112683723462166\n",
      "Scores using C=0.18329807108324356\n",
      "NER: 0.6696237827375552 Sensitivity: 0.43777777777777777 Specificity: 0.9014697876973327\n",
      "Scores using C=0.29763514416313175\n",
      "NER: 0.6874910784491624 Sensitivity: 0.4822222222222222 Specificity: 0.8927599346761024\n",
      "Scores using C=0.4832930238571752\n",
      "NER: 0.7086581382689168 Sensitivity: 0.53 Specificity: 0.8873162765378334\n",
      "Scores using C=0.7847599703514611\n",
      "NER: 0.7153919433859555 Sensitivity: 0.55 Specificity: 0.8807838867719108\n",
      "Scores using C=1.2742749857031335\n",
      "NER: 0.7215030544970664 Sensitivity: 0.5622222222222222 Specificity: 0.8807838867719108\n",
      "Scores using C=2.06913808111479\n",
      "NER: 0.7212756305570677 Sensitivity: 0.5666666666666667 Specificity: 0.8758845944474687\n",
      "Scores using C=3.359818286283781\n",
      "NER: 0.7268423758543519 Sensitivity: 0.5788888888888889 Specificity: 0.8747958628198149\n",
      "Scores using C=5.455594781168514\n",
      "NER: 0.7310258271336116 Sensitivity: 0.5888888888888889 Specificity: 0.8731627653783343\n",
      "Scores using C=8.858667904100823\n",
      "NER: 0.7390757878183027 Sensitivity: 0.6044444444444445 Specificity: 0.8737071311921611\n",
      "Scores using C=14.38449888287663\n",
      "NER: 0.7412756305570677 Sensitivity: 0.6066666666666667 Specificity: 0.8758845944474687\n",
      "Scores using C=23.357214690901213\n",
      "NER: 0.7437924151696607 Sensitivity: 0.6133333333333333 Specificity: 0.874251497005988\n",
      "Scores using C=37.92690190732246\n",
      "NER: 0.7449259057642291 Sensitivity: 0.6177777777777778 Specificity: 0.8720740337506805\n",
      "Scores using C=61.584821106602604\n",
      "NER: 0.7468983245629952 Sensitivity: 0.6244444444444445 Specificity: 0.869352204681546\n",
      "Scores using C=100.0\n",
      "NER: 0.7488595536200326 Sensitivity: 0.63 Specificity: 0.8677191072400653\n"
     ]
    },
    {
     "data": {
      "image/png": "[encoded data removed]",
      "text/plain": [
       "<Figure size 432x288 with 1 Axes>"
      ]
     },
     "metadata": {
      "needs_background": "light"
     },
     "output_type": "display_data"
    },
    {
     "name": "stdout",
     "output_type": "stream",
     "text": [
      "Best C value is  100.0\n"
     ]
    }
   ],
   "source": [
    "C_values = np.geomspace(0.01, 100, num=20)\n",
    "ner_vals = []\n",
    "Sn_vals = []\n",
    "Sp_vals = []\n",
    "for c in C_values:\n",
    "    svm = SVC(C=c)\n",
    "    svm.fit(train_data_knn, train_labels)\n",
    "    predicted = svm.predict(test_data_knn)\n",
    "    print(f\"Scores using C={c}\")\n",
    "    ner, sn, sp = print_metrics(predicted, test_labels)\n",
    "    ner_vals.append(ner)\n",
    "    Sn_vals.append(sn)\n",
    "    Sp_vals.append(sp)\n",
    "plt.plot(C_values, ner_vals, label=\"NER\")\n",
    "plt.plot(C_values, Sn_vals, label=\"Sn\")\n",
    "plt.plot(C_values, Sp_vals, label=\"Sp\")\n",
    "plt.legend()\n",
    "plt.xlabel(\"Regularization parameter C\")\n",
    "plt.show()\n",
    "print(\"Best C value is \", C_values[np.argmax(ner_vals)])"
   ]
  },
  {
   "cell_type": "markdown",
   "metadata": {},
   "source": [
    "Using all the features seems to work slightly better (although not much), so we know test the kernel"
   ]
  },
  {
   "cell_type": "code",
   "execution_count": 11,
   "metadata": {},
   "outputs": [
    {
     "name": "stdout",
     "output_type": "stream",
     "text": [
      "Scores using rbf kernel\n",
      "NER: 0.7530802032299038 Sensitivity: 0.6166666666666667 Specificity: 0.889493739793141\n",
      "Scores using poly kernel\n",
      "NER: 0.7399742938365693 Sensitivity: 0.5855555555555556 Specificity: 0.894393032117583\n",
      "Scores using linear kernel\n",
      "NER: 0.7247916288634851 Sensitivity: 0.5644444444444444 Specificity: 0.8851388132825259\n",
      "Scores using sigmoid kernel\n",
      "NER: 0.6365444867840078 Sensitivity: 0.5044444444444445 Specificity: 0.7686445291235711\n"
     ]
    }
   ],
   "source": [
    "kernels = [\"rbf\", \"poly\", \"linear\", \"sigmoid\"]\n",
    "for k in kernels:\n",
    "    svm = SVC(kernel=k, C=23)\n",
    "    svm.fit(train_data, train_labels)\n",
    "    predicted = svm.predict(test_data)\n",
    "    print(f\"Scores using {k} kernel\")\n",
    "    ner, sn, sp = print_metrics(predicted, test_labels)"
   ]
  },
  {
   "cell_type": "markdown",
   "metadata": {},
   "source": [
    "We now will try to use a simple neural network to improve the predictions"
   ]
  },
  {
   "cell_type": "code",
   "execution_count": 14,
   "metadata": {},
   "outputs": [
    {
     "name": "stdout",
     "output_type": "stream",
     "text": [
      "Model: \"sequential_1\"\n",
      "_________________________________________________________________\n",
      "Layer (type)                 Output Shape              Param #   \n",
      "=================================================================\n",
      "dense_3 (Dense)              (None, 20)                220       \n",
      "_________________________________________________________________\n",
      "dense_4 (Dense)              (None, 10)                210       \n",
      "_________________________________________________________________\n",
      "dense_5 (Dense)              (None, 2)                 22        \n",
      "=================================================================\n",
      "Total params: 452\n",
      "Trainable params: 452\n",
      "Non-trainable params: 0\n",
      "_________________________________________________________________\n",
      "Epoch 1/5\n",
      "200/200 [==============================] - 1s 3ms/step - loss: 0.6997 - categorical_accuracy: 0.4979\n",
      "Epoch 2/5\n",
      "200/200 [==============================] - 1s 3ms/step - loss: 0.6941 - categorical_accuracy: 0.5071\n",
      "Epoch 3/5\n",
      "200/200 [==============================] - 1s 3ms/step - loss: 0.6939 - categorical_accuracy: 0.5031\n",
      "Epoch 4/5\n",
      "200/200 [==============================] - 1s 3ms/step - loss: 0.6938 - categorical_accuracy: 0.4998\n",
      "Epoch 5/5\n",
      "200/200 [==============================] - 1s 3ms/step - loss: 0.6937 - categorical_accuracy: 0.5015\n"
     ]
    }
   ],
   "source": [
    "model = tf.keras.models.Sequential([\n",
    "    tf.keras.layers.Dense(20, activation='relu', input_shape=(10,)),\n",
    "    tf.keras.layers.Dense(10, activation=\"relu\"),\n",
    "    tf.keras.layers.Dense(2, activation=\"softmax\")\n",
    "])\n",
    "model.summary()\n",
    "loss_function = tf.keras.losses.BinaryCrossentropy()\n",
    "model.compile(optimizer=tf.keras.optimizers.RMSprop(), loss=loss_function, metrics=[tf.keras.metrics.CategoricalAccuracy()])\n",
    "history = model.fit(train_data, train_labels, epochs=5)"
   ]
  },
  {
   "cell_type": "code",
   "execution_count": 15,
   "metadata": {},
   "outputs": [
    {
     "name": "stdout",
     "output_type": "stream",
     "text": [
      "86/86 [==============================] - 0s 2ms/step - loss: 0.6933 - categorical_accuracy: 0.9361\n",
      "NER: 0.476372406701748 Sensitivity: 0.03222222222222222 Specificity: 0.9205225911812738\n"
     ]
    },
    {
     "data": {
      "text/plain": [
       "(0.476372406701748, 0.03222222222222222, 0.9205225911812738)"
      ]
     },
     "execution_count": 15,
     "metadata": {},
     "output_type": "execute_result"
    }
   ],
   "source": [
    "results = model.evaluate(test_data, test_labels)\n",
    "predictions = model.predict(test_data)\n",
    "predictions = np.argmax(predictions, axis=1)\n",
    "print_metrics(predictions, test_labels)"
   ]
  },
  {
   "cell_type": "code",
   "execution_count": null,
   "metadata": {},
   "outputs": [],
   "source": []
  }
 ],
 "metadata": {
  "kernelspec": {
   "display_name": "Python 3",
   "language": "python",
   "name": "python3"
  },
  "language_info": {
   "codemirror_mode": {
    "name": "ipython",
    "version": 3
   },
   "file_extension": ".py",
   "mimetype": "text/x-python",
   "name": "python",
   "nbconvert_exporter": "python",
   "pygments_lexer": "ipython3",
   "version": "3.8.3"
  }
 },
 "nbformat": 4,
 "nbformat_minor": 2
}

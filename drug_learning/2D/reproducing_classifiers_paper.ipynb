{
 "cells": [
  {
   "cell_type": "markdown",
   "metadata": {},
   "source": [
    "In this notebook we reproduce one of the classifiers demonstrated in the paper [In Silico Prediction of Cytochrome P450-Drug Interaction: QSARs for CYP3A4 and CYP2C9](https://www.mdpi.com/1422-0067/17/6/914)"
   ]
  },
  {
   "cell_type": "code",
   "execution_count": 77,
   "metadata": {},
   "outputs": [],
   "source": [
    "import os\n",
    "import pandas as pd\n",
    "from sklearn.neighbors import KNeighborsClassifier\n",
    "from sklearn.metrics import confusion_matrix\n",
    "\n",
    "path_data = \"../datasets/CYP/\""
   ]
  },
  {
   "cell_type": "markdown",
   "metadata": {},
   "source": [
    "Load training data, separate labels from features and select the features used in the paper for the KNeighbors Classifiers"
   ]
  },
  {
   "cell_type": "code",
   "execution_count": 78,
   "metadata": {},
   "outputs": [],
   "source": [
    "train_data = pd.read_csv(os.path.join(path_data, \"CYP2C9_dataset_training.csv\"), decimal=\",\")\n",
    "train_labels = (train_data[\"Class\"] == \"Active\").values.astype(int)\n",
    "train_data = train_data.drop(columns=\"Class\")\n",
    "train_data_knn = train_data.iloc[:,[5, 6, 7, 8, 9, 10]]"
   ]
  },
  {
   "cell_type": "markdown",
   "metadata": {},
   "source": [
    "Load testing data, separate labels from features and select the features used in the paper for the KNeighbors Classifiers"
   ]
  },
  {
   "cell_type": "code",
   "execution_count": 53,
   "metadata": {},
   "outputs": [],
   "source": [
    "test_data = pd.read_csv(os.path.join(path_data, \"CYP2C9_dataset_testing.csv\"), decimal=\",\")\n",
    "test_labels = (test_data[\"Class\"] == \"Active\").values.astype(int)\n",
    "test_data = test_data.drop(columns=\"Class\")\n",
    "test_data_knn = test_data.iloc[:,[5, 6, 7, 8, 9, 10]]"
   ]
  },
  {
   "cell_type": "markdown",
   "metadata": {},
   "source": [
    "Assign appropiate data types to the features"
   ]
  },
  {
   "cell_type": "code",
   "execution_count": 57,
   "metadata": {},
   "outputs": [],
   "source": [
    "test_data = test_data.astype({\"SMILES\": object, \"Sp\": float, \"nBM\": int, \"ARR\": float, \"nPyrimidines\": int, \"HyWi_B(m)\": float, \"GATS2i\": float, \"Eta_betaP_A\": float, \"nRNR2\": int, \"F01[C-N]\": int, \"MLOGP\": float})\n",
    "train_data = train_data.astype({\"SMILES\": object, \"Sp\": float, \"nBM\": int, \"ARR\": float, \"nPyrimidines\": int, \"HyWi_B(m)\": float, \"GATS2i\": float, \"Eta_betaP_A\": float, \"nRNR2\": int, \"F01[C-N]\": int, \"MLOGP\": float})"
   ]
  },
  {
   "cell_type": "code",
   "execution_count": 70,
   "metadata": {},
   "outputs": [],
   "source": [
    "nbrs = KNeighborsClassifier(n_neighbors=14, algorithm='ball_tree')\n",
    "nbrs.fit(train_data_knn, train_lables)\n",
    "predicted = nbrs.predict(test_data_knn)"
   ]
  },
  {
   "cell_type": "code",
   "execution_count": 71,
   "metadata": {},
   "outputs": [],
   "source": [
    "tn, fp, fn, tp = confusion_matrix(test_labels, predicted).ravel()"
   ]
  },
  {
   "cell_type": "code",
   "execution_count": 73,
   "metadata": {},
   "outputs": [
    {
     "name": "stdout",
     "output_type": "stream",
     "text": [
      "NER: 0.7336992681304059 Sensitivity: 0.6111111111111112 Specificity: 0.8562874251497006\n"
     ]
    }
   ],
   "source": [
    "Sn = tp/(tp+fn)\n",
    "Sp = tn/(tn+fp)\n",
    "ner = (Sn+Sp)/2\n",
    "print(\"NER:\", ner, \"Sensitivity:\", Sn, \"Specificity:\", Sp)"
   ]
  },
  {
   "cell_type": "code",
   "execution_count": null,
   "metadata": {},
   "outputs": [],
   "source": []
  }
 ],
 "metadata": {
  "kernelspec": {
   "display_name": "Python 3",
   "language": "python",
   "name": "python3"
  },
  "language_info": {
   "codemirror_mode": {
    "name": "ipython",
    "version": 3
   },
   "file_extension": ".py",
   "mimetype": "text/x-python",
   "name": "python",
   "nbconvert_exporter": "python",
   "pygments_lexer": "ipython3",
   "version": "3.7.7"
  }
 },
 "nbformat": 4,
 "nbformat_minor": 2
}

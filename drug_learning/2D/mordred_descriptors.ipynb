{
 "cells": [
  {
   "cell_type": "code",
   "execution_count": 1,
   "metadata": {},
   "outputs": [],
   "source": [
    "%matplotlib inline\n",
    "import os\n",
    "import numpy as np\n",
    "import pandas as pd\n",
    "import tensorflow as tf\n",
    "from rdkit import Chem\n",
    "from mordred import Calculator, descriptors\n",
    "from sklearn.model_selection import train_test_split\n",
    "\n",
    "# matplotlib.rcParams.update({'font.size': 24})\n",
    "# plt.style.use(\"ggplot\")\n",
    "PATH_DATA = \"../datasets/CYP/\""
   ]
  },
  {
   "cell_type": "code",
   "execution_count": 2,
   "metadata": {},
   "outputs": [],
   "source": [
    "shared_data = pd.read_csv(os.path.join(PATH_DATA, \"shared_set_cyp.csv\"))\n",
    "labels_2c9 = (shared_data[\"p450-cyp2c9 Activity Outcome\"] == \"Active\").values.astype(int)\n",
    "validation_2c9_data = pd.read_csv(os.path.join(PATH_DATA, \"only_2c9_set_cyp.csv\"))\n",
    "labels_validation_2c9 = (validation_2c9_data[\"p450-cyp2c9 Activity Outcome\"] == \"Active\").values.astype(int)\n",
    "labels_3a4 = (shared_data[\"p450-cyp3a4 Activity Outcome\"] == \"Active\").values.astype(int)\n",
    "validation_3a4_data = pd.read_csv(os.path.join(PATH_DATA, \"only_3a4_set_cyp.csv\"))\n",
    "labels_validation_3a4 = (validation_3a4_data[\"p450-cyp3a4 Activity Outcome\"] == \"Active\").values.astype(int)"
   ]
  },
  {
   "cell_type": "code",
   "execution_count": 18,
   "metadata": {},
   "outputs": [],
   "source": [
    "def clean_features(df):\n",
    "    pass\n",
    "\n",
    "\n",
    "def get_features(input_sdf):\n",
    "    calc = Calculator(descriptors, ignore_3D=True)\n",
    "    features = calc.pandas(Chem.SDMolSupplier(input_sdf))\n",
    "    return clean_features(features)"
   ]
  },
  {
   "cell_type": "code",
   "execution_count": 5,
   "metadata": {},
   "outputs": [],
   "source": [
    "if os.path.exists(os.path.join(\"features\", \"shared_set_features_mordred.csv\")):\n",
    "    features_shared = pd.read_csv(os.path.join(\"features\", \"shared_set_features_mordred.csv\"))\n",
    "else:\n",
    "    features_shared = get_features(os.path.join(PATH_DATA, \"shared_set_cyp.sdf\"))\n",
    "    features_shared.to_csv(os.path.join(\"features\", \"shared_set_features_mordred.csv\"), index=False)\n",
    "    \n",
    "if os.path.exists(os.path.join(\"features\", \"only_2c9_set_features_mordred.csv\")):\n",
    "    features_only_2c9 = np.load(os.path.join(\"features\", \"only_2c9_set_features_mordred.csv\"))\n",
    "else:   \n",
    "    features_only_2c9 = get_features(os.path.join(PATH_DATA, \"only_2c9_set_cyp.sdf\"))\n",
    "    features_only_2c9.to_csv(os.path.join(\"features\", \"only_2c9_set_features_mordred.csv\"), index=False)\n",
    "    \n",
    "if os.path.exists(os.path.join(\"features\", \"only_3a4_set_features_mordred.csv\")):\n",
    "    features_only_3a4 = np.load(os.path.join(\"features\", \"only_3a4_set_features_mordred.csv\"))\n",
    "else:   \n",
    "    features_only_3a4 = get_features(os.path.join(PATH_DATA, \"only_3a4_set_cyp.sdf\"))\n",
    "    features_only_3a4.to_csv(os.path.join(\"features\", \"only_3a4_set_features_mordred.csv\"), index=False)"
   ]
  },
  {
   "cell_type": "code",
   "execution_count": 6,
   "metadata": {},
   "outputs": [
    {
     "data": {
      "text/plain": [
       "<rdkit.Chem.rdmolfiles.SDMolSupplier at 0x7f9d695de500>"
      ]
     },
     "execution_count": 6,
     "metadata": {},
     "output_type": "execute_result"
    }
   ],
   "source": [
    "structures_shared"
   ]
  },
  {
   "cell_type": "code",
   "execution_count": 9,
   "metadata": {},
   "outputs": [
    {
     "name": "stderr",
     "output_type": "stream",
     "text": [
      " 28%|██▊       | 2622/9420 [06:35<12:08,  9.33it/s]"
     ]
    },
    {
     "name": "stdout",
     "output_type": "stream",
     "text": [
      "/home/jfrancesc/.conda/envs/drug_learning/lib/python3.6/site-packages/numpy/core/fromnumeric.py:90: RuntimeWarning: overflow encountered in reduce\n",
      "  return ufunc.reduce(obj, axis, dtype, out, **passkwargs)\n"
     ]
    },
    {
     "name": "stderr",
     "output_type": "stream",
     "text": [
      " 28%|██▊       | 2642/9420 [06:38<27:16,  4.14it/s]"
     ]
    },
    {
     "name": "stdout",
     "output_type": "stream",
     "text": [
      "/home/jfrancesc/.conda/envs/drug_learning/lib/python3.6/site-packages/numpy/core/fromnumeric.py:90: RuntimeWarning: overflow encountered in reduce\n",
      "  return ufunc.reduce(obj, axis, dtype, out, **passkwargs)\n"
     ]
    },
    {
     "name": "stderr",
     "output_type": "stream",
     "text": [
      " 29%|██▉       | 2771/9420 [06:52<14:58,  7.40it/s]"
     ]
    },
    {
     "name": "stdout",
     "output_type": "stream",
     "text": [
      "/home/jfrancesc/.conda/envs/drug_learning/lib/python3.6/site-packages/numpy/core/fromnumeric.py:90: RuntimeWarning: overflow encountered in reduce\n",
      "  return ufunc.reduce(obj, axis, dtype, out, **passkwargs)\n"
     ]
    },
    {
     "name": "stderr",
     "output_type": "stream",
     "text": [
      " 31%|███       | 2914/9420 [07:12<33:09,  3.27it/s]  "
     ]
    },
    {
     "name": "stdout",
     "output_type": "stream",
     "text": [
      "/home/jfrancesc/.conda/envs/drug_learning/lib/python3.6/site-packages/numpy/core/fromnumeric.py:90: RuntimeWarning: overflow encountered in reduce\n",
      "  return ufunc.reduce(obj, axis, dtype, out, **passkwargs)\n"
     ]
    },
    {
     "name": "stderr",
     "output_type": "stream",
     "text": [
      "100%|██████████| 9420/9420 [21:17<00:00,  7.38it/s]  \n"
     ]
    }
   ],
   "source": [
    "calc = Calculator(descriptors, ignore_3D=True)\n",
    "df = calc.pandas(structures_shared)"
   ]
  },
  {
   "cell_type": "code",
   "execution_count": 16,
   "metadata": {},
   "outputs": [],
   "source": [
    "df.to_csv(\"features/shared_features_testing.csv\", index=False)"
   ]
  },
  {
   "cell_type": "code",
   "execution_count": null,
   "metadata": {},
   "outputs": [],
   "source": []
  }
 ],
 "metadata": {
  "kernelspec": {
   "display_name": "Python 3",
   "language": "python",
   "name": "python3"
  },
  "language_info": {
   "codemirror_mode": {
    "name": "ipython",
    "version": 3
   },
   "file_extension": ".py",
   "mimetype": "text/x-python",
   "name": "python",
   "nbconvert_exporter": "python",
   "pygments_lexer": "ipython3",
   "version": "3.6.10"
  }
 },
 "nbformat": 4,
 "nbformat_minor": 4
}
